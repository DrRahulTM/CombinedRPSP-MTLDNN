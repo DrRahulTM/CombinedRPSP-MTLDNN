{
 "cells": [
  {
   "cell_type": "code",
   "execution_count": null,
   "id": "04a77d5b",
   "metadata": {},
   "outputs": [],
   "source": [
    "import numpy as np\n",
    "from keras.models import Model\n",
    "from keras.layers import Input, Dense, Activation, Dropout, Flatten, Concatenate\n",
    "from keras.layers import Conv2D, Add, Reshape\n",
    "import tensorflow as tf\n",
    "model_checkpoint = tf.keras.callbacks.ModelCheckpoint('checkpoint.h5', monitor='val_accuracy',save_best_only=True,verbose=2)\n",
    "layer1 = Conv2D(filters=1, kernel_size=[1,1], strides=(1,1), padding='valid', name='Utilities',use_bias=False, trainable=True)\n",
    "layer2 = Conv2D(filters=1, kernel_size=[1,1], strides=(1,1), padding='valid', name='Utilitiess',use_bias=False, trainable=True)\n",
    "layer3 = Conv2D(filters=1, kernel_size=[1,1], strides=(1,1), padding='valid', name='UtilitiesSP',use_bias=False, trainable=True) \n",
    "#MNL utilities\n",
    "main_input= Input((1,2,1), name = 'Features')\n",
    "utilities = layer1 (main_input)\n",
    "utilitiesR = Reshape([2], name='Flatten_Dim')(utilities)\n",
    "#MNL utilities1\n",
    "main_input1= Input((1,2,1), name = 'Featuress')\n",
    "utilitiess = layer2 (main_input1)\n",
    "utilitiesRR= Reshape([2], name='Flatten_Dimm')(utilitiess)\n",
    "#SPvariables\n",
    "SP_input= Input((1,2,1), name = 'Features2')\n",
    "utilities2 = layer1 (SP_input)\n",
    "utilities3 = layer3 (utilities2)\n",
    "utilitiesR2 = Reshape([2], name='Flatten_Dim2')(utilities3)\n",
    "#SPvariables1\n",
    "SP_input1= Input((1,2,1), name = 'Featuress2')\n",
    "utilitiess2 = layer2 (SP_input1)\n",
    "utilitiess3 = layer3 (utilitiess2)\n",
    "utilitiesRR2 = Reshape([2], name='Flatten_Dimm2')(utilitiess3)\n",
    "#adding four components of utilities\n",
    "final_utilities = Add(name=\"New_Utility_functions\")([utilitiesR,utilitiesRR, utilitiesR2, utilitiesRR2])\n",
    "logits = Activation('softmax', name='Choice')(final_utilities)\n",
    "model = Model(inputs=[main_input,main_input1, SP_input,SP_input1], outputs=logits)\n",
    "model.summary()"
   ]
  },
  {
   "cell_type": "code",
   "execution_count": null,
   "id": "1267ec87",
   "metadata": {},
   "outputs": [],
   "source": [
    "import numpy as np\n",
    "import tensorflow as tf\n",
    "import random\n",
    "import shelve\n",
    "import _pickle as pickle\n",
    "from keras.models import Sequential, Model\n",
    "from keras.callbacks import TensorBoard, EarlyStopping\n",
    "from keras.models import load_model\n",
    "from keras.layers import Input, Dense, Activation, Dropout, Flatten\n",
    "from keras.layers import Conv2D, Add, Reshape\n",
    "from tensorflow.keras.optimizers import RMSprop, Adam, SGD\n",
    "from keras.utils.vis_utils import plot_model\n",
    "from keras.utils import np_utils\n",
    "from keras.losses import mean_squared_error\n",
    "from keras.callbacks import EarlyStopping\n",
    "#train_utilities\n",
    "train_data = np.load('/home/rahul/interact/interaction2/noTCinteractionwillingnessspace/MNLneural_result.npy')\n",
    "train_labels = train_data[:,-1,:]\n",
    "train_data = np.delete(train_data, -1, axis = 1)\n",
    "#train_utilities1\n",
    "train_data1 = np.load('/home/rahul/interact/interaction2/noTCinteractionwillingnessspace/MNLneural_result1.npy')\n",
    "#SP utilities\n",
    "SP_data = np.load('/home/rahul/interact/interaction2/noTCinteractionwillingnessspace/MNLneural_SP.npy')\n",
    "#SP utilities1\n",
    "SP_data1 = np.load('/home/rahul/interact/interaction2/noTCinteractionwillingnessspace/MNLneural_SP1.npy')\n",
    "#estimation\n",
    "#callback = EarlyStopping(monitor ='loss', min_delta=0.0004, patience =5,restore_best_weights=True)\n",
    "model.compile(optimizer = Adam(clipnorm = 50.), metrics = [tf.keras.metrics.CategoricalAccuracy()], loss = 'categorical_crossentropy')\n",
    "history = model.fit([train_data1,train_data, SP_data1,SP_data],train_labels, epochs = 2000, steps_per_epoch = 50, verbose = 2,callbacks =[model_checkpoint])\n",
    "betas_layer = model.get_layer(name = 'Utilities')\n",
    "betas_layer1 = model.get_layer(name = 'Utilitiess')\n",
    "betas_layer3 = model.get_layer(name = 'UtilitiesSP')\n",
    "betas = betas_layer.get_weights()\n",
    "betas1 = betas_layer1.get_weights()\n",
    "betas3 = betas_layer3.get_weights()\n",
    "evaluation = model.evaluate([train_data1,train_data, SP_data1,SP_data],train_labels,verbose=2)"
   ]
  },
  {
   "cell_type": "code",
   "execution_count": null,
   "id": "6e635cb5",
   "metadata": {},
   "outputs": [],
   "source": []
  }
 ],
 "metadata": {
  "kernelspec": {
   "display_name": "Python 3 (ipykernel)",
   "language": "python",
   "name": "python3"
  },
  "language_info": {
   "codemirror_mode": {
    "name": "ipython",
    "version": 3
   },
   "file_extension": ".py",
   "mimetype": "text/x-python",
   "name": "python",
   "nbconvert_exporter": "python",
   "pygments_lexer": "ipython3",
   "version": "3.9.12"
  }
 },
 "nbformat": 4,
 "nbformat_minor": 5
}
