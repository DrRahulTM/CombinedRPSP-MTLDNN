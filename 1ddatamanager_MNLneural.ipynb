{
 "cells": [
  {
   "cell_type": "code",
   "execution_count": 4,
   "id": "d1acb1a9",
   "metadata": {},
   "outputs": [
    {
     "name": "stdout",
     "output_type": "stream",
     "text": [
      "/home/rahul/interaction2/ITTATTnterMTL/1/1/vMNLneural_comb.npy\n"
     ]
    }
   ],
   "source": [
    "import numpy as np\n",
    "from keras.models import Sequential, Model\n",
    "from keras.models import load_model\n",
    "choice_data_name = '/home/rahul/interaction2/ITTATTnterMTL/1/1/MNLneural_'+ 'choice' + '.npy'\n",
    "train_data_comb = '/home/rahul/interaction2/ITTATTnterMTL/1/1/MNLneural_'+ 'comb' + '.npy'\n",
    "train_data_RP = '/home/rahul/interaction2/ITTATTnterMTL/1/1/MNLneural_'+ 'RP' + '.npy'\n",
    "train_data_SP = '/home/rahul/interaction2/ITTATTnterMTL/1/1/MNLneural_'+ 'SP' +'.npy'\n",
    "data = np.loadtxt('/home/rahul/interaction2/ITTATTnterMTL/1/1/RPSPinteraction1.dat',skiprows = 1)\n",
    "choices_num = 2\n",
    "RPorSP = data[:,0]\n",
    "TT1 = data[:,2]\n",
    "TT2 = data[:,3]\n",
    "TC1 = data[:,4]\n",
    "TC2 = data[:,5]\n",
    "TT1SP  = data[:,6]\n",
    "TT2SP  = data[:,7]\n",
    "TC1SP  = data[:,8]\n",
    "TC2SP  = data[:,9]\n",
    "ITT1   = data[:,10]\n",
    "ITT2   = data[:,11]\n",
    "ATT1   = data[:,12]\n",
    "ATT2   = data[:,13]\n",
    "choice = data[:,20]\n",
    "choice1 = choice == 1\n",
    "choice2 = choice == 0\n",
    "ZEROs = np.zeros(choice.size)\n",
    "#choice\n",
    "choice_data = np.array([[choice1], [choice2]])\n",
    "choice_data = np.swapaxes(choice_data,0,2)\n",
    "np.save(choice_data_name, np.array(choice_data, dtype=np.float32))\n",
    "#combineddataset\n",
    "train_data = np.array([[TC1,TT1,TC2,TT2,TC1SP,TT1SP,TC2SP,TT2SP,ATT1,ATT2,ITT1 ,ITT2],[ZEROs,ZEROs,ZEROs,ZEROs,ZEROs,ZEROs,ZEROs,ZEROs,ZEROs,ZEROs,ZEROs,ZEROs]])\n",
    "train_data = np.swapaxes(train_data,0,2)\n",
    "np.save(train_data_comb, np.array(train_data, dtype=np.float32))\n",
    "#RPonlydataset\n",
    "train_data1 = np.array([[TC1,TT1,TC2,TT2,ATT1,ATT2,ITT1 ,ITT2],[ZEROs,ZEROs,ZEROs,ZEROs,ZEROs,ZEROs,ZEROs,ZEROs]])\n",
    "train_data1 = np.swapaxes(train_data1,0,2)\n",
    "np.save(train_data_RP, np.array(train_data1, dtype=np.float32))\n",
    "#SPonlydataset\n",
    "SP_data = np.array([[TC1SP,TT1SP,TC2SP,TT2SP],[ZEROs,ZEROs,ZEROs,ZEROs]])\n",
    "SP_data = np.swapaxes(SP_data,0,2)\n",
    "np.save(train_data_SP, np.array(SP_data, dtype=np.float32))"
   ]
  },
  {
   "cell_type": "code",
   "execution_count": null,
   "id": "14180d5c",
   "metadata": {},
   "outputs": [],
   "source": []
  },
  {
   "cell_type": "code",
   "execution_count": null,
   "id": "20e29108",
   "metadata": {},
   "outputs": [],
   "source": []
  },
  {
   "cell_type": "code",
   "execution_count": null,
   "id": "3bed5dcb",
   "metadata": {},
   "outputs": [],
   "source": []
  }
 ],
 "metadata": {
  "kernelspec": {
   "display_name": "Python 3 (ipykernel)",
   "language": "python",
   "name": "python3"
  },
  "language_info": {
   "codemirror_mode": {
    "name": "ipython",
    "version": 3
   },
   "file_extension": ".py",
   "mimetype": "text/x-python",
   "name": "python",
   "nbconvert_exporter": "python",
   "pygments_lexer": "ipython3",
   "version": "3.9.12"
  }
 },
 "nbformat": 4,
 "nbformat_minor": 5
}
